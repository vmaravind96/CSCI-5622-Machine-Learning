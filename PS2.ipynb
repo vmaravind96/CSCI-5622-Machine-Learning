{
 "cells": [
  {
   "cell_type": "markdown",
   "metadata": {
    "id": "RxsgsDAe9gS7"
   },
   "source": [
    "# Problem Set 2 - Naive Bayes, Decision Trees with ensemble methods\n",
    "## CSCI 5622 - Fall 2021\n",
    "***\n",
    "**Name**: $<$Aravindakumar Vijayasri Mohan Kumar$>$ \n",
    "***\n",
    "\n",
    "This assignment is due on Canvas by **3:55PM on October 7th**.\n",
    "\n",
    "Submit only this Jupyter notebook to Canvas. Do not compress it using tar, rar, zip, etc.\n",
    "Your solutions to analysis questions should be done in Markdown directly below the associated question.\n",
    "\n",
    "Remember that you are encouraged to discuss the problems with your classmates and instructors, \n",
    "but **you must write all code and solutions on your own**, and list any people or sources consulted.\n",
    "The only exception to this rule is that you may copy code directly from your own solution to homework 1.\n",
    "***"
   ]
  },
  {
   "cell_type": "markdown",
   "metadata": {
    "id": "Sd5OiQ7z9gS9"
   },
   "source": [
    "## Overview \n",
    "\n",
    "Your task for this homework is to build a naive Bayes and a decision tree classifiers in the first 2 problems.\n",
    "The last problem is about ensemble methods using scikit-learn decision tree as a weak learner.\n",
    "We'll explore bagging, boosting (AdaBoost) and Random Forest."
   ]
  },
  {
   "cell_type": "code",
   "execution_count": 1,
   "metadata": {
    "id": "vlf9Wp8e9gS9",
    "pycharm": {
     "is_executing": true,
     "name": "#%%\n"
    }
   },
   "outputs": [],
   "source": [
    "import numpy as np\n",
    "import matplotlib.pylab as plt\n",
    "import pickle\n",
    "from sklearn.metrics import precision_score\n",
    "from sklearn.tree import DecisionTreeClassifier\n",
    "import pandas as pd\n",
    "from time import time\n",
    "import random\n",
    "%matplotlib inline"
   ]
  },
  {
   "cell_type": "markdown",
   "metadata": {
    "id": "0dvJZ8lH9gS-"
   },
   "source": [
    "### Problem 1 - Naive Bayes [25 points]\n",
    "***\n",
    "Consider the problem of predicting whether a person has a college degree based on age, salary, and Colorado residency.\n",
    "The dataset looks like the following.\n",
    "\n",
    "|Age|Salary|Colorado Residency| College degree|\n",
    "|:------:|:-----------:| :----------:|--:|\n",
    "| 27 | 41,000 | Yes | Yes |\n",
    "| 61 | 52,000 | No | No |\n",
    "| 23 | 24,000 | Yes | No |\n",
    "| 29 | 77,000 | Yes | Yes |\n",
    "| 32 | 48,000 | No | Yes |\n",
    "| 57 | 120,000 | Yes | Yes |\n",
    "| 22 | 38,000 | Yes | Yes |\n",
    "| 41 | 45,000 | Yes | No |\n",
    "| 53 | 26,000 | No | No |\n",
    "| 48 | 65,000 | Yes | Yes |\n"
   ]
  },
  {
   "cell_type": "code",
   "execution_count": 2,
   "metadata": {
    "id": "F7Eut9gr9gS_",
    "pycharm": {
     "name": "#%%\n"
    }
   },
   "outputs": [],
   "source": [
    "features = np.array([[27 , 41000 , 1],\n",
    "              [61 , 52000 , 0],\n",
    "              [23 , 24000 , 1],\n",
    "              [29 , 77000 , 1],\n",
    "              [32 , 48000 , 0],\n",
    "              [57 , 120000 , 1],\n",
    "              [22 , 38000 , 1],\n",
    "              [41 , 45000 , 1],\n",
    "              [53 , 26000 , 0],\n",
    "              [48 , 65000 , 1]])\n",
    "labels = np.array([1, 0, 0, 1, 1, 1, 1, 0, 0, 1])"
   ]
  },
  {
   "cell_type": "markdown",
   "metadata": {
    "id": "eHcBnH9j9gS_",
    "pycharm": {
     "name": "#%% md\n"
    }
   },
   "source": [
    "1.1 What is our expected accuracy for the baseline case where we predict one label for all rows? (*2 points*)"
   ]
  },
  {
   "cell_type": "markdown",
   "metadata": {
    "id": "1fBgF0A-9gS_",
    "pycharm": {
     "name": "#%% md\n"
    }
   },
   "source": [
    "# BEGIN Workspace 1.1\n",
    "\n",
    "# Accuracy of the baseline using no features\n",
    "\n",
    "There are 10 rows in the above sample.\n",
    "\n",
    "Case 1: Predict 1 for all the rows\n",
    "\n",
    "* Correctly classified 6 \n",
    "* Accuracy = 6/10 = 60%\n",
    "\n",
    "Case 2: Predict 0 for all the rows\n",
    "\n",
    "* Correctly classified 4\n",
    "* Accracy = 4/10 = 40%\n",
    "\n",
    "# END Workspace 1.1"
   ]
  },
  {
   "cell_type": "markdown",
   "metadata": {
    "id": "__BSvqaC9gTA",
    "pycharm": {
     "name": "#%% md\n"
    }
   },
   "source": [
    "First, we have to find a way to deal with the continuous features. For now, let's put them into binary bins based on threshold arguments to our classifier - so we can treat this as a tuning parameter.\n",
    "\n",
    "1.2 Complete `threshold_features` to convert age and salary features to binary ones using the threshold arguments. (*3 points*)"
   ]
  },
  {
   "cell_type": "code",
   "execution_count": 3,
   "metadata": {
    "id": "iqCrnfzi9gTA",
    "pycharm": {
     "name": "#%%\n"
    }
   },
   "outputs": [],
   "source": [
    "def threshold_features(features, age_threshold, salary_threshold):\n",
    "    binary_X = features * 1 #This row just creates a \"hard copy\" of the X array so we can manipulate it as needed\n",
    "\n",
    "    #BEGIN Workspace 1.2\n",
    "    # Threshold the corresponding features\n",
    "    # Column0 is Age and Column1 is Salary\n",
    "    binary_X[:, 0] = np.array([0 if age < age_threshold else 1 for age in binary_X[:, 0]])\n",
    "    binary_X[:, 1] = np.array([0 if salary < salary_threshold else 1 for salary in binary_X[:, 1]])\n",
    "    #END Workspace 1.2\n",
    "\n",
    "    return binary_X"
   ]
  },
  {
   "cell_type": "markdown",
   "metadata": {
    "id": "DYZzkDTE9gTA",
    "pycharm": {
     "name": "#%% md\n"
    }
   },
   "source": [
    "As seen during the class, given a row $(x_1, x_2, x_3)$, the naive Bayes classifier should assign the label $y$ that\n",
    "maximizes:\n",
    "\n",
    "\\begin{align}\n",
    "\\log [p(y) \\prod_i p(x_i | y)] = \\log p(y) + \\sum_{i} \\log p(x_i | y)\n",
    "\\end{align}\n",
    "\n",
    "$p(y)$ and $p(x_i | y)$ are computed using the training set (during `fit` call).\n",
    "\n",
    "We have defined $p(x_i | y)$ as :\n",
    "\\begin{align}\n",
    "p(x_i | y) = \\frac{N_{y,i}}{N_y}\n",
    "\\end{align}\n",
    "where $N_{y,i}$ is the number of rows where $y$ and $x_i$ occur together, and $N_y = \\sum_i N_{y,i}$.\n",
    "\n",
    "1.3 Complete the `fit` call by computing the counts and joint counts. Hint: Use `features_counts` to store the contingency\n",
    "table $N_{y,i}$ for each feature $i$ and then use them to compute $\\log p(x_i | y)$ (*10 points*)\n",
    "\n",
    "1.4 Complete the `predict` call (*5 points*)"
   ]
  },
  {
   "cell_type": "code",
   "execution_count": 4,
   "metadata": {
    "id": "4Ssk9z9n9gTB",
    "pycharm": {
     "name": "#%%\n"
    }
   },
   "outputs": [],
   "source": [
    "class NaiveBayes(object):\n",
    "    \"\"\"\n",
    "    NaiveBayes classifier for binary features and binary labels\n",
    "    \"\"\"\n",
    "\n",
    "    def __init__(self, alpha=0.0):\n",
    "        self.alpha = alpha\n",
    "        self.classes_counts = None\n",
    "        self.features_counts = []\n",
    "        self.classes_log_probabilities = None\n",
    "        self.features_log_probabilities = [] # same structure as features_count\n",
    "\n",
    "    def fit(self, X, y):\n",
    "        \"\"\"\n",
    "\n",
    "        Parameters\n",
    "        ----------\n",
    "        X: binary np.array of shape (n_samples, n_features)\n",
    "        y: corresponding labels of shape (n_samples,)\n",
    "        Returns\n",
    "        -------\n",
    "        Trained classifier\n",
    "        \"\"\"\n",
    "\n",
    "        #BEGIN Workspace 1.3\n",
    "\n",
    "        # Compute the counts and joint counts\n",
    "\n",
    "        # Get Classes Counts\n",
    "        y_labels, y_counts = np.unique(y, return_counts=True)\n",
    "        self.classes_counts = {label: count for label, count in zip(y_labels, y_counts)}\n",
    "\n",
    "        # Get class log probabilities\n",
    "        total_samples = X.shape[0]\n",
    "        self.classes_log_probabilities = {label: np.log((value/total_samples)) for label, value in self.classes_counts.items()}\n",
    "\n",
    "        # Get Frequency counts\n",
    "        self.features_counts = self._get_feature_counts(X, y)\n",
    "\n",
    "        # Get Frequency log probabilities\n",
    "        self.features_log_probabilities = self._get_feature_probabilities()\n",
    "        \n",
    "        #END Workspace 1.3\n",
    "\n",
    "        return self\n",
    "\n",
    "    def predict(self, x_test):\n",
    "        # joint_log_likelihood = np.zeros((x_test.shape[0], self.classes_counts.shape[0]))\n",
    "        y_hat = []\n",
    "        #BEGIN Workspace 1.4\n",
    "        #TODO: Find the corresponding labels using Naive bayes logic\n",
    "\n",
    "        # Get number of features\n",
    "        n_features = x_test.shape[1]\n",
    "\n",
    "        # For each x_test entry calculate which label has max value for \n",
    "        # log(Py) + Sum(feat_probability)\n",
    "        for _, row in enumerate(x_test):\n",
    "\n",
    "          prediction_dict = {}\n",
    "\n",
    "          # Iterate through all the labels for a given data point and find\n",
    "          # the max probability\n",
    "          for y_label in range(2):\n",
    "            y_probability = self.classes_log_probabilities[y_label]\n",
    "            f_probabilities = 0\n",
    "\n",
    "            # For each label we need to find summation of log probabilities\n",
    "            for f_index, f_label in enumerate(row):\n",
    "              f_probabilities += self.features_log_probabilities[f_index][y_label][f_label]\n",
    "            \n",
    "            # Store the probabilities for all the labels\n",
    "            prediction_dict[y_label] = y_probability + f_probabilities\n",
    "\n",
    "          # From the predicted values find the max and assign that as y_hat\n",
    "          (max_label, _) = max(prediction_dict.items(), key=lambda k: k[1])\n",
    "\n",
    "          y_hat.append(max_label)\n",
    "\n",
    "        #END Workspace 1.4\n",
    "        return y_hat\n",
    "\n",
    "\n",
    "    def accuracy(self, labels, y_hat):\n",
    "      \"\"\"\n",
    "      Construct confusion matrix and compute accuracy\n",
    "      \"\"\"\n",
    "      c_matrix = np.zeros((2,2))\n",
    "\n",
    "      for actual, predicted in zip(labels, y_hat):\n",
    "        c_matrix[actual][predicted] += 1\n",
    "\n",
    "      accuracy = c_matrix.diagonal().sum()/len(labels)\n",
    "\n",
    "      return accuracy\n",
    "\n",
    "\n",
    "    # Helper methods\n",
    "    def _get_feature_counts(self, X, y):\n",
    "      \"\"\"\n",
    "      Construct contingency table for each feature\n",
    "      \"\"\"\n",
    "      # Get the number of features\n",
    "      n_features = X.shape[1]\n",
    "\n",
    "      # Keep rows as labels and columns as feature values\n",
    "      frequency_tables = []\n",
    "      for feature_index in range(0, n_features):\n",
    "        cur_freq_table = self._get_feature_count(X, y, feature_index)\n",
    "        frequency_tables.append(cur_freq_table)\n",
    "\n",
    "      # Convert to np array\n",
    "      frequency_tables = np.array(frequency_tables)\n",
    "      return frequency_tables\n",
    "\n",
    "    def _get_feature_probabilities(self):\n",
    "      \"\"\"\n",
    "      Calculate feature probabilities from the feature counts\n",
    "      \"\"\"\n",
    "      # Iterate and get the log probabilities\n",
    "      feature_probabilities = []\n",
    "      for table in self.features_counts:\n",
    "        cur_probability_table = self._get_feature_probability(table)\n",
    "        feature_probabilities.append(cur_probability_table)\n",
    "\n",
    "      feature_probabilities = np.array(feature_probabilities)\n",
    "      return feature_probabilities\n",
    "\n",
    "    def _get_feature_count(self, X, labels, feature_index):\n",
    "      \"\"\"\n",
    "      Constructs frequency table for a single feature.\n",
    "\n",
    "      Returns:\n",
    "        2D array with rows as feature values and columns as lables\n",
    "      \"\"\"\n",
    "      # Get the unique feature values and Y labels\n",
    "      u_feature_values, u_labels = self._get_unique_values(X, labels, feature_index)\n",
    "\n",
    "      # Combine X and y for calculation purpose\n",
    "      xy_array = np.hstack((X, labels.reshape(-1, 1)))\n",
    "      label_index = X.shape[1]\n",
    "\n",
    "      # Iterate over feature values and labels and form the matrix\n",
    "      # Since this classifier focus on binary values value and index can be same.\n",
    "      freq_table = np.zeros((len(u_feature_values), len(u_labels)))\n",
    "      for l_value in u_labels:\n",
    "        for f_value in u_feature_values:\n",
    "          mask = (xy_array[:, feature_index]==f_value) & (xy_array[:, label_index]==l_value)\n",
    "          freq_table[l_value, f_value] += len(xy_array[mask])\n",
    "\n",
    "      return freq_table\n",
    "\n",
    "\n",
    "    def _get_feature_probability(self, frequency_table):\n",
    "      \"\"\"\n",
    "      Compute Log probability for a feature\n",
    "\n",
    "      Returns:\n",
    "        A 2D array of dim frequency_table\n",
    "      \"\"\"\n",
    "      num_rows, num_columns = frequency_table.shape\n",
    "      # Iterate and compute log probability table\n",
    "      log_table = np.zeros((num_rows, num_columns))\n",
    "      for row_index in range(num_rows):\n",
    "        # Get N(y). Row sum will give the count\n",
    "        denominator = frequency_table[row_index].sum()\n",
    "        for col_index in range(num_columns):\n",
    "          # Probability = N(y,i)/ N(y) \n",
    "          log_table[row_index][col_index] = self._get_log_probability(frequency_table[row_index][col_index], denominator)\n",
    "\n",
    "      return log_table\n",
    "          \n",
    "\n",
    "    def _get_unique_values(self, X, y, feature_index):\n",
    "      \"\"\"\n",
    "      Returns unique values in a feature and labels\n",
    "      \"\"\"\n",
    "      # Get the unique feature values and Y labels\n",
    "      u_feature_values = np.unique(X[:, feature_index])\n",
    "      u_labels = np.unique(labels)\n",
    "      return u_feature_values, u_labels\n",
    "\n",
    "    def _get_log_probability(self, numerator, denominator):\n",
    "      \"\"\"\n",
    "      Returns log probability. May or maynot apply laplace based on the alpha value\n",
    "      \"\"\"\n",
    "      if (self.alpha == 0):\n",
    "        cur_probability = numerator/denominator\n",
    "        result = np.log(cur_probability)\n",
    "      else:\n",
    "        cur_probability = (numerator + self.alpha)/(denominator + 2*self.alpha)\n",
    "        result = np.log(cur_probability)\n",
    "      \n",
    "      return result"
   ]
  },
  {
   "cell_type": "markdown",
   "metadata": {
    "id": "xeIxjdRj9gTB",
    "pycharm": {
     "name": "#%% md\n"
    }
   },
   "source": [
    "1.5 Using age 30 and salary 40,000 as thresholds, transform the features and evaluate (accuracy) the NaiveBayes classifier\n",
    "on the training data. (*5 points*)"
   ]
  },
  {
   "cell_type": "code",
   "execution_count": 5,
   "metadata": {
    "colab": {
     "base_uri": "https://localhost:8080/"
    },
    "id": "Lbea6ZA99gTB",
    "outputId": "26d31beb-0a27-4cc0-a40b-ccdfde877a27",
    "pycharm": {
     "name": "#%%\n"
    }
   },
   "outputs": [
    {
     "name": "stdout",
     "output_type": "stream",
     "text": [
      "The accuracy of Naive Bayes is:  0.7\n"
     ]
    }
   ],
   "source": [
    "clf = NaiveBayes()\n",
    "#BEGIN Workspace 1.5\n",
    "#TODO: Transform features to binary features, fit the classifier, report the accuracy\n",
    "\n",
    "# Convert to binary and split the data\n",
    "binary_X = threshold_features(features, 30, 40000)\n",
    "\n",
    "# Fit the classifier\n",
    "clf.fit(binary_X, labels)\n",
    "# print(clf.features_log_probabilities)\n",
    "\n",
    "# Predict\n",
    "y_predict = clf.predict(binary_X)\n",
    "\n",
    "# Get Accuracy\n",
    "accuracy = clf.accuracy(labels, y_predict)\n",
    "print(\"The accuracy of Naive Bayes is: \", accuracy)\n",
    "\n",
    "#END Workspace 1.5"
   ]
  },
  {
   "cell_type": "markdown",
   "metadata": {
    "id": "967FCZkL9gTB",
    "pycharm": {
     "name": "#%% md\n"
    }
   },
   "source": [
    "**Bonus question** 1.6 Use the attribute `alpha` of the NaiveBayes to convert it to the smoothed NaiveBayes presented during the class. (*5 points*)"
   ]
  },
  {
   "cell_type": "code",
   "execution_count": 6,
   "metadata": {
    "colab": {
     "base_uri": "https://localhost:8080/"
    },
    "id": "v8xYKOZzD1ZU",
    "outputId": "8cfcaba3-16b8-48d3-cd05-d22aa7f04b2d"
   },
   "outputs": [
    {
     "name": "stdout",
     "output_type": "stream",
     "text": [
      "The accuracy of Naive Bayes is:  0.7\n"
     ]
    }
   ],
   "source": [
    "# Smoothed Naive Bayes\n",
    "clf = NaiveBayes(alpha=1.0)\n",
    "#BEGIN Workspace 1.5\n",
    "#TODO: Transform features to binary features, fit the classifier, report the accuracy\n",
    "\n",
    "# Convert to binary and split the data\n",
    "binary_X = threshold_features(features, 30, 40000)\n",
    "\n",
    "# Fit the classifier\n",
    "clf.fit(binary_X, labels)\n",
    "# print(clf.features_log_probabilities)\n",
    "\n",
    "# Predict\n",
    "y_predict = clf.predict(binary_X)\n",
    "\n",
    "# Get Accuracy\n",
    "accuracy = clf.accuracy(labels, y_predict)\n",
    "print(\"The accuracy of Naive Bayes is: \", accuracy)"
   ]
  },
  {
   "cell_type": "markdown",
   "metadata": {
    "id": "pzDdlHlh9gTC",
    "pycharm": {
     "name": "#%% md\n"
    }
   },
   "source": [
    "### Problem 2 - Decision trees [25 points]\n",
    "***\n",
    "The goal of this problem is to implement the core elements of the Decision Tree classifier.\n",
    "We do not expect a highly efficient implementation of the functions since the ensemble methods will use the implementation\n",
    "from scikit-learn."
   ]
  },
  {
   "cell_type": "markdown",
   "metadata": {
    "id": "VmtKn-lC9gTC"
   },
   "source": [
    "We start by considering the variable *Colorado residency*.\n",
    "\n",
    "The leaf nodes of a decision tree act in the same way as in question (1.1) where no feature is used.\n",
    "\n",
    "2.1 Complete `get_error_in_leaf` to return the count of misclassified instances. (*3 points*)"
   ]
  },
  {
   "cell_type": "code",
   "execution_count": 7,
   "metadata": {
    "id": "d-7GEksz9gTC",
    "pycharm": {
     "name": "#%%\n"
    }
   },
   "outputs": [],
   "source": [
    "def get_error_in_leaf(y, indices):\n",
    "    \"\"\"\n",
    "    :param y: all labels\n",
    "    :param indices: the subset of indexes in the leaf node\n",
    "    :return: Returns the number of errors in a leaf node of a decision tree.\n",
    "    \"\"\"\n",
    "\n",
    "    error_count = 0\n",
    "    #BEGIN Workspace 2.1\n",
    "    # Compute the number of errors in the leaf node (no feature is used)\n",
    "\n",
    "    filtered_labels = [y[index] for index in indices]\n",
    "    label_counts = {}\n",
    "\n",
    "    for label in range(2):\n",
    "      label_counts[label] = filtered_labels.count(label)\n",
    "      \n",
    "    # Note: Assuming the lesser occuring label for error \n",
    "    # so that we can maximize accuracy\n",
    "    error_count = min(label_counts.values())\n",
    "\n",
    "    #END Workspace 2.1\n",
    "    return error_count\n",
    "\n",
    "\n",
    "def value_split_binary_feature(x, y, feature_index, root, criteria_func):\n",
    "    \"\"\"Will be used later to evaluate the criteria gain\"\"\"\n",
    "    left_child = [i for i in root if x[i, feature_index] == 0]\n",
    "    right_child = [i for i in root if x[i, feature_index] == 1]\n",
    "    return criteria_func(y, root, left_child, right_child)\n"
   ]
  },
  {
   "cell_type": "markdown",
   "metadata": {
    "id": "xkO5qZvS9gTC"
   },
   "source": [
    "We will use information gain criteria to decide how to split the root node of our decision tree.\n",
    "\n",
    "2.2 Complete the `entropy` function. (*5 points*)\n",
    "\n",
    "2.3 Complete the `information_gain_criteria` to compute the information gained by splitting the root node.\n",
    " Print the gain value for splitting based on *Colorado residency* (*5 points*)\n"
   ]
  },
  {
   "cell_type": "code",
   "execution_count": 8,
   "metadata": {
    "id": "4BMsUUP19gTC",
    "pycharm": {
     "name": "#%%\n"
    }
   },
   "outputs": [],
   "source": [
    "def entropy(y, indices):\n",
    "    \"\"\"\n",
    "    :param y: all labels\n",
    "    :param indices: the indices of data points\n",
    "    :return: Returns the entropy in the labels for the data points in indices.\n",
    "    \"\"\"\n",
    "    \n",
    "    entropy_value = 0\n",
    "    if len(indices) == 0: # deal with corner case when there is no data point.\n",
    "        return entropy_value\n",
    "    else:\n",
    "        #BEGIN Workspace 2.2\n",
    "        # Compute the entropy of the labels from indices\n",
    "\n",
    "        filtered_labels = np.array([y[index] for index in indices])\n",
    "        total_count = len(filtered_labels)\n",
    "        labels, counts = np.unique(filtered_labels, return_counts=True)\n",
    "\n",
    "        # Calculate the probability and log probability for each label\n",
    "        # Probability => count/total_count\n",
    "        probabilities = np.array([count/total_count for count in counts])\n",
    "        log_probabilities = np.log(probabilities)\n",
    "\n",
    "        label_probabilities = {label: probability for label, probability in zip(labels, probabilities)}\n",
    "        label_log_probabilities = {label: log_probability for label, log_probability in zip(labels, log_probabilities)}\n",
    "\n",
    "        # Calculate Entropy => Summation (-pi log2 pi) Forall i.\n",
    "        for label in labels:\n",
    "          cur_value = -1 * label_probabilities[label] * label_log_probabilities[label]\n",
    "          entropy_value += cur_value\n",
    "        \n",
    "        #END Workspace 2.2\n",
    "    return entropy_value\n",
    "\n",
    "def information_gain_criteria(y, root, left_child, right_child):\n",
    "    \"\"\"\n",
    "    :param y: all labels\n",
    "    :param root: indices of all the data points in the root\n",
    "    :param left_child: the subset of indices in the left child\n",
    "    :param right_child: the subset of indices in the right child\n",
    "    :return: information gain of the split\n",
    "    \"\"\"\n",
    "    information_gain = 0\n",
    "    #BEGIN Workspace 2.3.a\n",
    "    # Compute the information gain of the split\n",
    "\n",
    "    # Get Parent Entropy\n",
    "    root_entropy = entropy(y, root)\n",
    "\n",
    "    # Get children entropy\n",
    "    left_entropy = entropy(y, left_child)\n",
    "    right_entropy = entropy(y, right_child)\n",
    "\n",
    "    # Weighted Average Entropy of children\n",
    "    weighted_left = (len(left_child)/len(root)) * left_entropy\n",
    "    weighted_right = (len(right_child)/len(root)) * right_entropy\n",
    "    average_children_entropy = weighted_left + weighted_right\n",
    "\n",
    "    # Info Gain = Parent Entropy - Weighted Avg child entropy\n",
    "    information_gain = root_entropy - average_children_entropy\n",
    "    \n",
    "    #END Workspace 2.3.a\n",
    "    return information_gain"
   ]
  },
  {
   "cell_type": "code",
   "execution_count": 9,
   "metadata": {
    "colab": {
     "base_uri": "https://localhost:8080/"
    },
    "id": "FWfEBsRa9gTD",
    "outputId": "998be5f3-9f4f-4609-e00f-d08440bc606c",
    "pycharm": {
     "name": "#%%\n"
    }
   },
   "outputs": [
    {
     "name": "stdout",
     "output_type": "stream",
     "text": [
      "Information gain based on Colorado Residency:  0.06326870451113265\n"
     ]
    }
   ],
   "source": [
    "feature_id = 2\n",
    "info_gain = 0\n",
    "#BEGIN Workspace 2.3.b\n",
    "# report the information gain of the split based on Colorado Residency\n",
    "\n",
    "binary_X = threshold_features(features, 30, 40000)\n",
    "\n",
    "info_gain = value_split_binary_feature(binary_X, labels, feature_id, range(len(binary_X))   ,information_gain_criteria)\n",
    "print(\"Information gain based on Colorado Residency: \", info_gain)\n",
    "\n",
    "#END Workspace 2.3.b"
   ]
  },
  {
   "cell_type": "markdown",
   "metadata": {
    "id": "LfUmgkKw9gTD"
   },
   "source": [
    "Now we have to deal with continuous features for the decision tree.\n",
    "One way to deal with continuous (or ordinal) data is to define binary features based on thresholding as we've done\n",
    "for NaiveBayes. But we have to find the optimal threshold based on the criteria we're using.\n",
    "\n",
    "2.4 Complete the `value_split_continuous_feature` by trying different possible threshold values of feature\n",
    "of index `feature_index` and return the best criteria value and threshold. (*5 points*)"
   ]
  },
  {
   "cell_type": "code",
   "execution_count": 10,
   "metadata": {
    "id": "-N9GX5kV9gTD",
    "pycharm": {
     "name": "#%%\n"
    }
   },
   "outputs": [],
   "source": [
    "def value_split_continuous_feature(x, y, feature_index, root, criteria_func=information_gain_criteria):\n",
    "    \"\"\"\n",
    "    :param x: all feature values\n",
    "    :param y: all labels\n",
    "    :param feature_index: feature id to split the tree based on\n",
    "    :param root: indexes of all the data points in the root\n",
    "    :param criteria_func: the splitting criteria function\n",
    "    :return: Return the best value and its corresponding threshold by splitting based on a continuous feature.\n",
    "    \"\"\"\n",
    "\n",
    "    best_value, best_thres = 0, 0\n",
    "\n",
    "    #BEGIN Workspace 2.4\n",
    "    # Complete the function as detailed in the question and function description\n",
    "\n",
    "    # Iterate from min to max and then find the best threshold\n",
    "    for threshold in sorted(x[:, feature_index]):\n",
    "\n",
    "      # Convert the column to binary based on current threshold\n",
    "      converted_x = x * 1\n",
    "      converted_x[:, feature_index] = np.array([0 if value <= threshold else 1 for value in converted_x[:, feature_index]])\n",
    "\n",
    "      # Call value split binary feature\n",
    "      cur_info_gain = value_split_binary_feature(converted_x, y, feature_index, root, information_gain_criteria)\n",
    "      if cur_info_gain > best_value: \n",
    "        best_value = cur_info_gain\n",
    "        best_thres = threshold\n",
    "\n",
    "    #END Workspace 2.4\n",
    "\n",
    "    return best_value, best_thres"
   ]
  },
  {
   "cell_type": "markdown",
   "metadata": {
    "id": "jCcLIcZ-9gTD",
    "pycharm": {
     "name": "#%% md\n"
    }
   },
   "source": [
    "2.5 Find the best thresholds for age and salary. Print their corresponding information gains. (*5 points*)"
   ]
  },
  {
   "cell_type": "code",
   "execution_count": 11,
   "metadata": {
    "colab": {
     "base_uri": "https://localhost:8080/"
    },
    "id": "JDZKEAar9gTD",
    "outputId": "cad58457-a026-4183-9b73-c3c70ed911ce",
    "pycharm": {
     "name": "#%%\n"
    }
   },
   "outputs": [
    {
     "name": "stdout",
     "output_type": "stream",
     "text": [
      "For Age, Best Threshold: 57 with Information Gain: 0.10014891554392502\n",
      "For Salary, Best Threshold: 26000 with Information Gain: 0.22314355131420988\n"
     ]
    }
   ],
   "source": [
    "root = list(range(len(labels))) # root includes all data points\n",
    "#BEGIN Workspace 2.5\n",
    "# Report the best thresholds for age and salary and their split information gains\n",
    "\n",
    "age_index = 0\n",
    "best_age_info_gain, best_age_threshold = value_split_continuous_feature(features, labels, age_index, root, information_gain_criteria)\n",
    "print(\"For Age, Best Threshold:\", best_age_threshold, \"with Information Gain:\", best_age_info_gain)\n",
    "\n",
    "salary_index = 1\n",
    "best_salary_info_gain, best_salary_threshold = value_split_continuous_feature(features, labels, salary_index, root, information_gain_criteria)\n",
    "# Note: On running from min to max for salary there are multiple thresholds which get same maximum Info gain. \n",
    "# We take the first salary where it reaches Max Info Gain \n",
    "print(\"For Salary, Best Threshold:\", best_salary_threshold, \"with Information Gain:\", best_salary_info_gain)\n",
    "\n",
    "#END Workspace 2.5"
   ]
  },
  {
   "cell_type": "markdown",
   "metadata": {
    "id": "ARuGUXrX9gTD"
   },
   "source": [
    "2.6 Based on the obtained information gains, if we build a decision stump (decision tree with depth 1) greedily,\n",
    "which feature should we choose? Why? What's the resulting accuracy? (*2 points*)"
   ]
  },
  {
   "cell_type": "markdown",
   "metadata": {
    "id": "LQw753jf9gTD",
    "pycharm": {
     "name": "#%% md\n"
    }
   },
   "source": [
    "# BEGIN Workspace 2.6.a\n",
    "\n",
    "# Which feature should we pick for the decision stump? Why?\n",
    "\n",
    "The information gain **0.2231** is maximum for salary of **26000**. \n",
    "So we take Salary feature for creating our decision stump. We get an accuracy of **80%**\n",
    "\n",
    "# END Workspace 2.6.a"
   ]
  },
  {
   "cell_type": "code",
   "execution_count": 12,
   "metadata": {
    "colab": {
     "base_uri": "https://localhost:8080/"
    },
    "id": "23hmgFvv9gTE",
    "outputId": "91553243-c1fc-4310-b68c-964073bde434",
    "pycharm": {
     "name": "#%%\n"
    }
   },
   "outputs": [
    {
     "name": "stdout",
     "output_type": "stream",
     "text": [
      "Left Indices: [2 8]\n",
      "Right Indices: [0 1 3 4 5 6 7 9]\n",
      "Left Leaf Error Count: 0\n",
      "Right Leaf Error Count: 2\n",
      "Accuracy rate is: 80.0 %\n"
     ]
    }
   ],
   "source": [
    "#BEGIN Workspace 2.6.b\n",
    "# Split based on the chosen feature and compute the accuracy (use get_error_in_leaf)\n",
    "\n",
    "best_salary_threshold = 26000\n",
    "\n",
    "# Take a copy of the original\n",
    "salary_index = 1\n",
    "feature_copy = features * 1\n",
    "\n",
    "# Split into Left and Right child\n",
    "left_indices = np.array([index for index, salary in enumerate(feature_copy[:, salary_index]) if salary <= best_salary_threshold])\n",
    "right_indices = np.array([index for index, salary in enumerate(feature_copy[:, salary_index]) if salary > best_salary_threshold])\n",
    "\n",
    "print(\"Left Indices:\", left_indices)\n",
    "print(\"Right Indices:\", right_indices)\n",
    "\n",
    "# Get the error count\n",
    "left_error = get_error_in_leaf(labels, left_indices)\n",
    "right_error = get_error_in_leaf(labels, right_indices)\n",
    "\n",
    "print(\"Left Leaf Error Count:\", left_error)\n",
    "print(\"Right Leaf Error Count:\", right_error)\n",
    "\n",
    "# Accuracy \n",
    "accuracy = (len(labels) - (left_error+right_error))/len(labels)\n",
    "print(\"Accuracy rate is:\", accuracy*100, \"%\")\n",
    "\n",
    "#BEGIN Workspace 2.6.b"
   ]
  },
  {
   "cell_type": "markdown",
   "metadata": {
    "id": "hPHtMPUw9gTE"
   },
   "source": [
    "**Bonus Question**\n",
    "\n",
    "2.7 You now have all the ingredients to build a decision tree recursively.\n",
    "You can build a decision tree of depth two and report its classification error on the training data and the tree.(*5 points*)"
   ]
  },
  {
   "cell_type": "code",
   "execution_count": 13,
   "metadata": {
    "colab": {
     "base_uri": "https://localhost:8080/"
    },
    "id": "o-L9ey1t9gTE",
    "outputId": "928fc1d3-ea38-41b1-d01f-f244d4796acf",
    "pycharm": {
     "name": "#%%\n"
    }
   },
   "outputs": [
    {
     "name": "stdout",
     "output_type": "stream",
     "text": [
      "Tree Levels and the indices in each level leaf nodes:\n",
      "------------------------------------------------------------------\n",
      "Feature Idx: 1\n",
      "Feature chosen: Salary\n",
      "Information Gain: 0.22314355131420988\n",
      "Threshold Value: 26000\n",
      "Tree Level1: [2 8] Error Count: 0\n",
      "------------------------------------------------------------------\n",
      "Feature Idx: 0\n",
      "Feature chosen: Age\n",
      "Information Gain: 0.21576155433883565\n",
      "Threshold Value: 32\n",
      "Tree Level2: [0 3 4 6] Error Count: 0\n",
      "Tree Level2: [1 5 7 9] Error Count: 2\n",
      "------------------------------------------------------------------\n",
      "Total Error Count: 2\n",
      "Accuracy percentage: 80.0 %\n"
     ]
    }
   ],
   "source": [
    "#BEGIN Workspace 2.7\n",
    "# Build a Decision Tree of Depth 2 using age, salary and the previously computed thresholds\n",
    "\n",
    "feature_labels = [\"Age\", \"Salary\", \"Residency\"]\n",
    "feature_indices = [0, 1, 2]\n",
    "max_depth = 2\n",
    "\n",
    "def get_idx_threshold_with_max_gain(root_indices):\n",
    "  \"\"\"\n",
    "  Returns the Feature,max threshold and info gain on which the split has to be made.\n",
    "  \"\"\"\n",
    "  info_gains = []\n",
    "  thresholds = []\n",
    "\n",
    "  # Get the Info gain and threshold for each feature.\n",
    "  for feature_index in feature_indices:\n",
    "    info_gain, threshold = value_split_continuous_feature(features, labels, feature_index, root_indices, information_gain_criteria)\n",
    "    info_gains.append(info_gain)\n",
    "    thresholds.append(threshold)\n",
    "\n",
    "  # Return the feature with max info gain\n",
    "  max_info_gain = max(info_gains)\n",
    "  idx = info_gains.index(max_info_gain)\n",
    "  max_threshold = thresholds[idx]\n",
    "\n",
    "  return idx, max_info_gain, max_threshold\n",
    "\n",
    "  \n",
    "def buildTreeRecursively(root_indices, cur_depth):\n",
    "  \"\"\"\n",
    "  Recursively Build tree until depth of two.\n",
    "  \"\"\"\n",
    "  # If error count is zero (or) our desired depth is reached then stop\n",
    "  error_count = get_error_in_leaf(labels, root_indices)\n",
    "  if error_count==0 or cur_depth==max_depth:\n",
    "    print(f\"Tree Level{cur_depth}:\", root_indices, \"Error Count:\", error_count)\n",
    "    return error_count\n",
    "  \n",
    "  # Get the feature with the most information gain for each level\n",
    "  # Calculated information gain only based on available indices for that level\n",
    "  feature_idx, info_gain, threshold = get_idx_threshold_with_max_gain(root_indices)\n",
    "\n",
    "  print(\"------------------------------------------------------------------\")\n",
    "  print(\"Feature Idx:\", feature_idx)\n",
    "  print(\"Feature chosen:\", feature_labels[feature_idx])\n",
    "  print(\"Information Gain:\", info_gain)\n",
    "  print(\"Threshold Value:\", threshold)\n",
    "\n",
    "  # Decide the left and right nodes\n",
    "  left_indices = np.array([index for index, value in enumerate(features[:, feature_idx]) if value <= threshold and index in root_indices])\n",
    "  right_indices = np.array([index for index, value in enumerate(features[:, feature_idx]) if value > threshold and index in root_indices])\n",
    "\n",
    "  # Call the recursive function\n",
    "  left_count = buildTreeRecursively(left_indices, cur_depth+1)\n",
    "  right_count = buildTreeRecursively(right_indices, cur_depth+1)\n",
    "\n",
    "  return left_count + right_count\n",
    "\n",
    "# Reporting the error count\n",
    "print(\"Tree Levels and the indices in each level leaf nodes:\")\n",
    "total_error_count = buildTreeRecursively(list(range(len(labels))), 0)\n",
    "print(\"------------------------------------------------------------------\")\n",
    "print(\"Total Error Count:\", total_error_count)\n",
    "tree_accuracy = (len(labels)-total_error_count)/len(labels)\n",
    "print(\"Accuracy percentage:\", tree_accuracy*100, \"%\")\n",
    "\n",
    "#END Workspace 2.7"
   ]
  },
  {
   "cell_type": "markdown",
   "metadata": {
    "id": "G6HHdhH49gTE"
   },
   "source": [
    "Problem 3  - Decision Tree Ensembles: Bagging and Boosting [50 points]\n",
    "---\n",
    "\n",
    "We are going to predict house price levels using decision tree ensembles.\n",
    "\n",
    "In this classification problem, we compare Decision trees and it's ensembles - Bagging and Boosting on House Price prediction [dataset](https://www.kaggle.com/c/house-prices-advanced-regression-techniques/data)\n",
    "\n",
    "Our *weak learner* for this problem is the DecisionTreeClassifier from scikit-learn with `max_depth=10`.\n",
    "\n",
    "We start first by loading preprocessed data that we'll use. Since the original data is for regression, we have first to transform\n",
    "`y_train` and `y_test` to discrete values reflecting price level.\n",
    "\n",
    "|Price range| Label|\n",
    "|:----------:|--:|\n",
    "| $ P < $125000|0|\n",
    "|125000$\\leq P < $ 160000| 1 |\n",
    "|160000$ \\leq P < $ 200000| 2 |\n",
    "|200000$ \\leq P $ | 3 |\n",
    "\n",
    "3.1 Start by transforming`y_train` and `y_test` to discrete values using the provided ranges. (*3 points*)"
   ]
  },
  {
   "cell_type": "code",
   "execution_count": 14,
   "metadata": {
    "id": "WmYiTO9HtTZk"
   },
   "outputs": [],
   "source": [
    "def discretize_y(y_value):\n",
    "  \"\"\"\n",
    "  Discretize Y values based on the given range\n",
    "  \"\"\"\n",
    "  if y_value < 125000: \n",
    "    return 0\n",
    "  elif y_value < 160000:\n",
    "    return 1\n",
    "  elif y_value < 200000:\n",
    "    return 2\n",
    "  else:\n",
    "    return 3 "
   ]
  },
  {
   "cell_type": "code",
   "execution_count": 15,
   "metadata": {
    "colab": {
     "base_uri": "https://localhost:8080/"
    },
    "id": "Pqc-pSie9gTE",
    "outputId": "d4e7c07d-ddd9-4c39-ea69-b3a471933487",
    "pycharm": {
     "name": "#%%\n"
    }
   },
   "outputs": [
    {
     "name": "stdout",
     "output_type": "stream",
     "text": [
      "[0 1 2 3] (1166, 79)\n",
      "[0 1 2 3] (292, 79)\n"
     ]
    }
   ],
   "source": [
    "X_train, X_test, y_train, y_test = pickle.load(open('data/test_train.pkl','rb'))\n",
    "#BEGIN Workspace 3.1\n",
    "# Discretize y_train and y_test\n",
    "\n",
    "y_train = np.array([discretize_y(value) for value in y_train])\n",
    "y_test = np.array([discretize_y(value) for value in y_test])\n",
    "\n",
    "#END Workspace 3.1\n",
    "print(np.unique(y_train), X_train.shape)\n",
    "print(np.unique(y_test), X_test.shape)"
   ]
  },
  {
   "cell_type": "markdown",
   "metadata": {
    "id": "qAvoorTo9gTE",
    "pycharm": {
     "name": "#%% md\n"
    }
   },
   "source": [
    "3.2 Complete the `ensemble_test` class to `fit` the model received as parameter and store the metrics and running time. (*5 points*)\n",
    "\n",
    "3.3 Complete `plot_metric` to show and compare different statistics of each model in a bar chart. (*5 points*)\n",
    "\n",
    "Later we will also use `ensemble_test` class to plot score, metric and time taken to fit the data."
   ]
  },
  {
   "cell_type": "code",
   "execution_count": 16,
   "metadata": {
    "id": "H1GZ5U1_9gTE",
    "pycharm": {
     "name": "#%%\n"
    }
   },
   "outputs": [],
   "source": [
    "def get_weak_learner():\n",
    "    \"\"\"Return a new instance of out chosen weak learner\"\"\"\n",
    "    return DecisionTreeClassifier(max_depth=10)\n",
    "\n",
    "class EnsembleTest:\n",
    "    \"\"\"\n",
    "        Test multiple model performance\n",
    "    \"\"\"\n",
    "\n",
    "    def __init__(self, x_train, y_train, x_test, y_test):\n",
    "        \"\"\"\n",
    "        initialize data partitions\n",
    "        \"\"\"\n",
    "        self.scores = {}\n",
    "        self.execution_time = {}\n",
    "        self.metric = {}\n",
    "        self.x_train = X_train\n",
    "        self.y_train = y_train\n",
    "        self.x_test = X_test\n",
    "        self.y_test = y_test\n",
    "        # Note: Label String was interchanged in given question. I have altered it.\n",
    "        self.score_name ='Precision(micro)' \n",
    "        self.metric_name = 'Mean Accuracy'\n",
    "\n",
    "    def fit_model(self, model, name):\n",
    "        \"\"\"\n",
    "        Fit the model on train data.\n",
    "        predict on test and store score and execution time for each fit.\n",
    "        :param model: model\n",
    "        :param name: name of model\n",
    "        \"\"\"\n",
    "        start = time()\n",
    "        # BEGIN Workspace 3.2\n",
    "        # Fit the model and get the predictions\n",
    "        # train and test data are treated as global variables\n",
    "        model.fit(self.x_train, self.y_train)\n",
    "\n",
    "        y_hat = model.predict(self.x_test)\n",
    "        c_matrix = self.confusion_matrix(y_hat)\n",
    "\n",
    "        #Hint: self.scores[name] = precision_score(?, average=\"micro\") # in multi-class, micro implies treating it as binary precision\n",
    "        #Hint self.metric[name] = Accuracy\n",
    "        self.scores[name] = self.precision_score(c_matrix)\n",
    "        self.metric[name] = (c_matrix.diagonal().sum())/len(self.y_test)\n",
    "\n",
    "        #END Workspace 3.2\n",
    "        self.execution_time[name] = time() - start\n",
    "\n",
    "    def print_result(self):\n",
    "        \"\"\"\n",
    "            print results for all models trained and tested.\n",
    "        \"\"\"\n",
    "        models_cross = pd.DataFrame({\n",
    "            'Model'              : list(self.metric.keys()),\n",
    "             self.score_name     : list(self.scores.values()),\n",
    "             self.metric_name    : list(self.metric.values()),\n",
    "            'Execution time'     : list(self.execution_time.values())})\n",
    "        print(models_cross.sort_values(by=self.score_name, ascending=False))\n",
    "\n",
    "    def plot_metric(self):\n",
    "        #BEGIN Workspace 3.3\n",
    "        # Plot bar chart for each metric : time, metric, score\n",
    "\n",
    "        # String Constants\n",
    "        model = \"Models\"\n",
    "        time = \"Execution Time\"\n",
    "        score = \"Precision Score\"\n",
    "        accuracy = \"Accuracy\"\n",
    "\n",
    "        x_values = self.metric.keys()\n",
    "\n",
    "        plt.title(\"Model comparisons\")\n",
    "        # Precision plot\n",
    "        self._plot_metric(x_values, self.scores.values(), model, score, \"orange\")\n",
    "        # Accuracy Plot\n",
    "        self._plot_metric(x_values, self.metric.values(), model, accuracy, \"blue\")\n",
    "        # Time taken plot\n",
    "        self._plot_metric(x_values, self.execution_time.values(), model, time, \"green\")\n",
    "        #END Workspace 3.3\n",
    "\n",
    "\n",
    "    # Helpers\n",
    "    def confusion_matrix(self, y_hat):\n",
    "      \"\"\"\n",
    "      Generates confusion matrix\n",
    "\n",
    "      Params:\n",
    "        y_hat: Predicted labels for y.\n",
    "      \"\"\"\n",
    "      # initialize c_matrix\n",
    "      c_matrix = np.zeros((4,4))\n",
    "\n",
    "      # Labels are from 0 to 3\n",
    "      for actual, predicted in zip(self.y_test, y_hat):\n",
    "        c_matrix[actual][predicted] += 1\n",
    "\n",
    "      return c_matrix\n",
    "\n",
    "    def precision_score(self, c_matrix, average=\"micro\"):\n",
    "      \"\"\"\n",
    "      Calculate the precision score based on the averaging scheme passed.\n",
    "\n",
    "      Params: \n",
    "        c_matrix: Confusion matrix \n",
    "        average: string that accepts \"micro\" or \"macro\"\n",
    "      \"\"\"\n",
    "      # Initialize String constants used\n",
    "      tp_label = \"tp\"\n",
    "      fp_label = \"fp\"\n",
    "\n",
    "      # For precision = TP / (TP + FP)\n",
    "      # So we calculate TP and FP for each label\n",
    "      positives_dict = self._compute_positives(c_matrix, tp_label, fp_label)\n",
    "      \n",
    "      # Now based on micro (or) macro average scheme we compute the precision\n",
    "      precision_score = None\n",
    "      if average == \"micro\":\n",
    "        precision_score = self._compute_micro_precision(positives_dict, tp_label, fp_label)\n",
    "      else:\n",
    "        precision_score = self._compute_macro_precision(positives_dict, tp_label, fp_label)\n",
    "\n",
    "      return precision_score\n",
    "\n",
    "    def _compute_positives(self, c_matrix, tp_label, fp_label):\n",
    "      \"\"\"\n",
    "      Compute TP and FP for each class and returns a dictionary\n",
    "\n",
    "      Params:\n",
    "        c_matrix: Confusion matrix\n",
    "        tp_label: Label for TP\n",
    "        fp_label: Label for FP\n",
    "      \"\"\"\n",
    "      # Initialize a dummy dictionary\n",
    "      positives_dict = {}\n",
    "\n",
    "      # For each predicted label iterate all the actual labels and compute\n",
    "      for predicted in range(4):\n",
    "        # Initialize both counts as Zero\n",
    "        tp_count, fp_count = 0,0\n",
    "        for actual in range(4):\n",
    "          if predicted == actual: # TP\n",
    "            tp_count += c_matrix[actual][predicted]\n",
    "          else: # FP\n",
    "            fp_count += c_matrix[actual][predicted]\n",
    "        cur_counts = {tp_label: tp_count, fp_label: fp_count}\n",
    "        positives_dict[predicted] = cur_counts\n",
    "      \n",
    "      return positives_dict\n",
    "\n",
    "    def _compute_micro_precision(self, positives_dict, tp_label, fp_label):\n",
    "      \"\"\"\n",
    "      Compute Micro precision.\n",
    "\n",
    "      Params:\n",
    "        positives_dict: A dict which contains tp and fp values for each class\n",
    "        tp_label: Label for TP\n",
    "        fp_label: Label for FP\n",
    "      \"\"\"\n",
    "      # Micro average precision = (total TP) / (total TP + total FP)\n",
    "      total_tp = sum([value[tp_label] for value in positives_dict.values()])\n",
    "      total_fp = sum([value[fp_label] for value in positives_dict.values()])\n",
    "\n",
    "      # Compute micro average\n",
    "      micro_average = total_tp/ (total_tp + total_fp)\n",
    "      return micro_average\n",
    "\n",
    "\n",
    "    def _compute_macro_precision(self, positives_dict, tp_label, fp_label):\n",
    "      \"\"\"\n",
    "      Compute Macro precision.\n",
    "\n",
    "      Params:\n",
    "        positives_dict: A dict which contains tp and fp values for each class\n",
    "        tp_label: Label for TP\n",
    "        fp_label: Label for FP\n",
    "      \"\"\"\n",
    "      # Calculates precision for each class individually\n",
    "      compute_precision = lambda v: (v[tp_label]) / (v[tp_label] + v[fp_label])\n",
    "\n",
    "      # Macro average precision = Avg(macro_precision), for all labels\n",
    "      macro_precisions = {label: compute_precision(value) for label, value in positives_dict.items()}\n",
    "\n",
    "      # Compute macro average\n",
    "      macro_average = sum(macro_precisions.values()) / len(macro_precisions)\n",
    "      return macro_average\n",
    "\n",
    "    def _plot_metric(self, x_values, y_values, xlabel, ylabel, color):\n",
    "      \"\"\"\n",
    "      Plot a bar chart for the given metrics\n",
    "\n",
    "      \"\"\"\n",
    "      plt.xlabel(xlabel)\n",
    "      plt.ylabel(ylabel)\n",
    "      plt.bar(x_values, y_values, color=color)\n",
    "      plt.figure(figsize=(8, 6), dpi=80)\n",
    "      plt.show()\n"
   ]
  },
  {
   "cell_type": "markdown",
   "metadata": {
    "id": "Mgv3ElUN9gTF",
    "pycharm": {
     "name": "#%% md\n"
    }
   },
   "source": [
    "3.4 Test `EnsembleTest` using our weak learner returned by `get_weak_learner` (*2 points*)"
   ]
  },
  {
   "cell_type": "code",
   "execution_count": 17,
   "metadata": {
    "colab": {
     "base_uri": "https://localhost:8080/",
     "height": 952
    },
    "id": "IJI2vFgu9gTF",
    "outputId": "d35f823f-f048-4648-a921-e35895c31b45",
    "pycharm": {
     "name": "#%%\n"
    }
   },
   "outputs": [
    {
     "name": "stdout",
     "output_type": "stream",
     "text": [
      "    Model  Precision(micro)  Mean Accuracy  Execution time\n",
      "2  Model3          0.691781       0.691781        0.012646\n",
      "0  Model1          0.671233       0.671233        0.014414\n",
      "1  Model2          0.657534       0.657534        0.012804\n"
     ]
    },
    {
     "data": {
      "image/png": "[encoded data removed]",
      "text/plain": [
       "<Figure size 432x288 with 1 Axes>"
      ]
     },
     "metadata": {
      "needs_background": "light"
     },
     "output_type": "display_data"
    },
    {
     "data": {
      "text/plain": [
       "<Figure size 640x480 with 0 Axes>"
      ]
     },
     "metadata": {},
     "output_type": "display_data"
    },
    {
     "data": {
      "image/png": "[encoded data removed]",
      "text/plain": [
       "<Figure size 432x288 with 1 Axes>"
      ]
     },
     "metadata": {
      "needs_background": "light"
     },
     "output_type": "display_data"
    },
    {
     "data": {
      "text/plain": [
       "<Figure size 640x480 with 0 Axes>"
      ]
     },
     "metadata": {},
     "output_type": "display_data"
    },
    {
     "data": {
      "image/png": "[encoded data removed]",
      "text/plain": [
       "<Figure size 432x288 with 1 Axes>"
      ]
     },
     "metadata": {
      "needs_background": "light"
     },
     "output_type": "display_data"
    },
    {
     "data": {
      "text/plain": [
       "<Figure size 640x480 with 0 Axes>"
      ]
     },
     "metadata": {},
     "output_type": "display_data"
    }
   ],
   "source": [
    "# create a handler for ensemble_test, use the created handler for fitting different models.\n",
    "ensemble_handler = EnsembleTest(X_train,y_train,X_test,y_test)\n",
    "#BEGIN Workspace 3.4\n",
    "# Initialize weak learner and fit ensemble_handler\n",
    "\n",
    "for model_number in range(1,4):\n",
    "  model = get_weak_learner()\n",
    "  ensemble_handler.fit_model(model, f\"Model{model_number}\")\n",
    "\n",
    "#END Workspace 3.4\n",
    "ensemble_handler.print_result()\n",
    "\n",
    "# Plot metrics\n",
    "ensemble_handler.plot_metric()"
   ]
  },
  {
   "cell_type": "markdown",
   "metadata": {
    "id": "Znbtmcmi9gTF"
   },
   "source": [
    "**Bagging:**\n",
    "\n",
    "Bagging consists of training a set of weak learners using random subsets of the train data.\n",
    "\n",
    "3.5 First, complete `sample_data` to return a random sample of size `sample_ratio * len(X_train)` of features and labels (*2 points*)\n",
    "\n",
    "3.6 Complete `fit` by building `n_estimators` of DecisionTreeClassifier, each trained on random sample of the data (*5 points*)\n",
    "\n",
    "3.7 Complete `predict` method to return the most likely label by combining different estimators predictions. \n",
    "Use a simple majority / plurality vote system similar to the one used in your KNNClassifier in Problem Set 1. However, in this case, to break a tie you should use `predict_log_proba` or `predict_proba` method of DecisionTreeClassifier:\n",
    "[Documentation](https://scikit-learn.org/stable/modules/generated/sklearn.tree.DecisionTreeClassifier.html#sklearn.tree.DecisionTreeClassifier.predict_proba) (*2 points*)"
   ]
  },
  {
   "cell_type": "code",
   "execution_count": 18,
   "metadata": {
    "id": "fsf1-zxB9gTF",
    "pycharm": {
     "name": "#%%\n"
    }
   },
   "outputs": [],
   "source": [
    "class BaggingEnsemble(object):\n",
    "\n",
    "    def __init__(self, n_estimators, sample_ratio):\n",
    "        self.n_estimators = n_estimators\n",
    "        self.sample_ratio = sample_ratio\n",
    "        self.estimators = []\n",
    "\n",
    "    def sample_data(self, x_train, y_train):\n",
    "        x_sample, y_sample = None, None\n",
    "        #BEGIN Workspace 3.5\n",
    "        # sample random subset of size sample_ratio * len(X_train)\n",
    "\n",
    "        sample_size = int(self.sample_ratio * len(x_train))\n",
    "        x_sample, y_sample = self.get_sampled_data(x_train, y_train, sample_size)\n",
    "\n",
    "        #END Workspace 3.5\n",
    "        return x_sample, y_sample\n",
    "\n",
    "    def fit(self, x_train, y_train):\n",
    "        for _ in range(self.n_estimators):\n",
    "            #BEGIN Workspace 3.6\n",
    "            # sample data and create new weak learned trained on the sample\n",
    "\n",
    "            x_sample, y_sample = self.sample_data(x_train, y_train)\n",
    "            model = get_weak_learner()\n",
    "            model.fit(x_sample, y_sample)\n",
    "            self.estimators.append(model)\n",
    "\n",
    "            #END Workspace 3.6\n",
    "\n",
    "    def predict(self, X_test):\n",
    "        answer = None\n",
    "        #BEGIN Workspace 3.7\n",
    "        # go through the trained estimators and acummulate their predicted_proba to get the mostly likely label\n",
    "        answer = self.get_predicted_labels(X_test)\n",
    "        #END Workspace 3.7\n",
    "        return answer\n",
    "\n",
    "    # Helpers\n",
    "    def get_sampled_data(self, x_train, y_train, sample_size):\n",
    "      \"\"\"\n",
    "      Constructs random sampling of data based on sample size\n",
    "\n",
    "      Params:\n",
    "        x_train: Original training data\n",
    "        y_train: Original labels\n",
    "        sample_size: Target length obtained based on sample ratio.\n",
    "      \"\"\"\n",
    "      # Get the indices that needs to be filtered out\n",
    "      row_indices = random.sample(range(len(x_train)), sample_size)\n",
    "      \n",
    "      # Filter out the rows selected above from the sample\n",
    "      x_result = np.take(x_train, row_indices, axis=0)\n",
    "      y_result = np.take(y_train, row_indices)\n",
    "\n",
    "      return x_result, y_result\n",
    "\n",
    "    def get_predicted_labels(self, X_test):\n",
    "      \"\"\"\n",
    "      Predicts the Output label based on highest predicted probability\n",
    "\n",
    "      Params:\n",
    "        X_test: Test data set (n_samples, n_features)\n",
    "\n",
    "      Returns:\n",
    "        y_hat: Predicted labels of dimension (n_samples, )\n",
    "      \"\"\"\n",
    "      # Initialize Cumulative Probability array\n",
    "      estimator_probs = []\n",
    "\n",
    "      # Iterate through each estimator and find the predicted probs \n",
    "      # and add it to cumulative probability\n",
    "      for estimator in self.estimators:\n",
    "        # Predicted Proba shape => (n_samples, # of class labels) \n",
    "        # Class labels 4 in this case\n",
    "        predicted_probs = estimator.predict_proba(X_test)\n",
    "        # Add to estimator_probs\n",
    "        estimator_probs.append(predicted_probs)\n",
    "\n",
    "      # Add all the predicted probs\n",
    "      cumulative_probs = sum(estimator_probs)\n",
    "      \n",
    "      # Get label for maximum probability for each data point and return\n",
    "      y_hat = np.argmax(cumulative_probs, axis=1)\n",
    "\n",
    "      return y_hat\n"
   ]
  },
  {
   "cell_type": "code",
   "execution_count": 19,
   "metadata": {
    "colab": {
     "base_uri": "https://localhost:8080/"
    },
    "id": "iubqFvzn9gTF",
    "outputId": "901e3c5b-76eb-4f06-aee6-4f0dc97529d3",
    "pycharm": {
     "name": "#%%\n"
    }
   },
   "outputs": [
    {
     "name": "stdout",
     "output_type": "stream",
     "text": [
      "     Model  Precision(micro)  Mean Accuracy  Execution time\n",
      "3  Bagging          0.729452       0.729452        0.116617\n",
      "2   Model3          0.691781       0.691781        0.012646\n",
      "0   Model1          0.671233       0.671233        0.014414\n",
      "1   Model2          0.657534       0.657534        0.012804\n"
     ]
    }
   ],
   "source": [
    "# This cell should run without errors\n",
    "ensemble_handler.fit_model(BaggingEnsemble(10, 0.9),'Bagging')\n",
    "ensemble_handler.print_result()"
   ]
  },
  {
   "cell_type": "markdown",
   "metadata": {
    "id": "ZBRywe2F9gTF",
    "pycharm": {
     "name": "#%% md\n"
    }
   },
   "source": [
    "**Random Forest**\n",
    "Random Forest has an additional layer of randomness compared to Bagging: we also sample a random subset of the features.\n",
    "\n",
    "3.8 First, complete `sample_data` to return a random sample of size `sample_ratio * len(X_train)` of labels and `feature_ratio * num_features` of features (*2 points*)\n",
    "\n",
    "3.9 Complete `fit` by building `n_estimators` of DecisionTreeClassifier, each trained on random sample of the data.\n",
    "Make sure to keep track of the sampled features for each estimator to use them in the prediction step. (*5 points*)\n",
    "\n",
    "3.10 Complete `predict` method to return the most likely label by combining different estimators predictions.\n",
    "Use a simple majority / plurality vote system similar to the one used in your KNNClassifier in Problem Set 1. However, in this case, to break a tie you should use `predict_log_proba` or `predict_proba`  method of DecisionTreeClassifier:\n",
    "[Documentation](https://scikit-learn.org/stable/modules/generated/sklearn.tree.DecisionTreeClassifier.html#sklearn.tree.DecisionTreeClassifier.predict_proba) (*3 points*)\n"
   ]
  },
  {
   "cell_type": "code",
   "execution_count": 20,
   "metadata": {
    "id": "P_Uloicm9gTF",
    "pycharm": {
     "name": "#%%\n"
    }
   },
   "outputs": [],
   "source": [
    "class RandomForest(object):\n",
    "\n",
    "    def __init__(self, n_estimators, sample_ratio, features_ratio):\n",
    "        self.n_estimators = n_estimators\n",
    "        self.sample_ratio = sample_ratio\n",
    "        self.features_ratio = features_ratio\n",
    "        self.estimators = []\n",
    "        self.features_indices = []\n",
    "\n",
    "    def sample_data(self, x_train, y_train):\n",
    "        X_sample, y_sample, features_indices = None, None, None\n",
    "        #BEGIN Workspace 3.8\n",
    "        # sample random subset of size sample_ratio * len(X_train) and subset of features of size\n",
    "        # features_ratio * num_features\n",
    "\n",
    "        # Row sampling\n",
    "        row_size = int(self.sample_ratio * len(x_train))\n",
    "        x_sample, y_sample = self.get_row_sampling(x_train, y_train, row_size)\n",
    "\n",
    "        # Feature sampling\n",
    "        col_size = int(self.features_ratio * x_train.shape[1])\n",
    "        x_sample, features_indices = self.get_feature_sampling(x_sample, col_size)\n",
    "\n",
    "        #END Workspace 3.8\n",
    "        return x_sample, y_sample, features_indices\n",
    "\n",
    "    def fit(self, x_train, y_train):\n",
    "        for _ in range(self.n_estimators):\n",
    "            #BEGIN Workspace 3.9\n",
    "            # sample data with random subset of rows and features using sample_data\n",
    "            # keep track of the features indices in features_indices to use in predict\n",
    "\n",
    "            x_sample, y_sample, cur_feature_indices = self.sample_data(x_train, y_train)\n",
    "            model = get_weak_learner()\n",
    "            model.fit(x_sample, y_sample)\n",
    "            self.estimators.append(model)\n",
    "            self.features_indices.append(cur_feature_indices)\n",
    "\n",
    "            #END Workspace 3.9\n",
    "\n",
    "    def predict(self, X_test):\n",
    "        predicted_proba = 0\n",
    "        answer = 0\n",
    "        #BEGIN Workspace 3.10\n",
    "        # compute cumulative sum of predict proba from estimators and return the labels with highest likelihood\n",
    "        answer = self.get_predicted_labels(X_test)\n",
    "        #END Workspace 3.10\n",
    "        return answer\n",
    "\n",
    "    # Helpers\n",
    "    def get_row_sampling(self, x_train, y_train, sample_size):\n",
    "      \"\"\"\n",
    "      Constructs random sampling of data based on sample size\n",
    "\n",
    "      Params:\n",
    "        x_train: Original training data\n",
    "        y_train: Original labels\n",
    "        sample_size: Target length obtained based on sample ratio.\n",
    "      \"\"\"\n",
    "      # Get the indices that needs to be filtered out\n",
    "      row_indices = random.sample(range(len(x_train)), sample_size)\n",
    "      \n",
    "      # Filter out the rows selected above from the sample\n",
    "      x_result = np.take(x_train, row_indices, axis=0)\n",
    "      y_result = np.take(y_train, row_indices)\n",
    "\n",
    "      return x_result, y_result\n",
    "\n",
    "    def get_feature_sampling(self, x_train, sample_size):\n",
    "      \"\"\"\n",
    "      Sample random features and return\n",
    "\n",
    "      Params:\n",
    "        x_train: Row sampled training data\n",
    "        sample_size: Number of features/columns to select\n",
    "      \"\"\"\n",
    "      # Get random feature indices\n",
    "      feature_indices = random.sample(range(x_train.shape[1]), sample_size)\n",
    "\n",
    "      # Filter out the indices from X_train (column filter)\n",
    "      filtered_x_train = np.take(x_train, feature_indices, axis=1)\n",
    "\n",
    "      return filtered_x_train, feature_indices\n",
    "\n",
    "\n",
    "    def get_predicted_labels(self, X_test):\n",
    "      \"\"\"\n",
    "      Predicts the Output label based on highest predicted probability\n",
    "\n",
    "      Params:\n",
    "        X_test: Test data set (n_samples, n_features)\n",
    "\n",
    "      Returns:\n",
    "        y_hat: Predicted labels of dimension (n_samples, )\n",
    "      \"\"\"\n",
    "      # Initialize estimator results\n",
    "      estimator_probs = []\n",
    "      \n",
    "      # Iterate through each estimator and find the predicted probs \n",
    "      # and add it to cumulative probability\n",
    "      for estimator, feature_indices in zip(self.estimators, self.features_indices):\n",
    "\n",
    "        # Get only the features for this estimator\n",
    "        x_test_filtered = np.take(X_test, feature_indices, axis=1)\n",
    "\n",
    "        # Predicted Proba shape => (n_samples, # of class labels) \n",
    "        # Class labels 4 in this case\n",
    "        predicted_probs = estimator.predict_proba(x_test_filtered)\n",
    "\n",
    "        # Add to estimator probs\n",
    "        estimator_probs.append(predicted_probs)\n",
    "\n",
    "      # Take sum of all the elements in the results\n",
    "      cumulative_probs = sum(estimator_probs)\n",
    "        \n",
    "      # Get label for maximum probability for each data point and return\n",
    "      y_hat = np.argmax(cumulative_probs, axis=1)\n",
    "\n",
    "      return y_hat"
   ]
  },
  {
   "cell_type": "code",
   "execution_count": 21,
   "metadata": {
    "colab": {
     "base_uri": "https://localhost:8080/"
    },
    "id": "T0IvJB-C9gTG",
    "outputId": "73480a18-3ae9-4110-9c44-14dbe3c46be0",
    "pycharm": {
     "name": "#%%\n"
    }
   },
   "outputs": [
    {
     "name": "stdout",
     "output_type": "stream",
     "text": [
      "          Model  Precision(micro)  Mean Accuracy  Execution time\n",
      "4  RandomForest          0.780822       0.780822        0.197983\n",
      "3       Bagging          0.729452       0.729452        0.116617\n",
      "2        Model3          0.691781       0.691781        0.012646\n",
      "0        Model1          0.671233       0.671233        0.014414\n",
      "1        Model2          0.657534       0.657534        0.012804\n"
     ]
    }
   ],
   "source": [
    "# This cell should run without errors\n",
    "ensemble_handler.fit_model(RandomForest(20, sample_ratio=0.9, features_ratio=0.8), 'RandomForest')\n",
    "ensemble_handler.print_result()"
   ]
  },
  {
   "cell_type": "markdown",
   "metadata": {
    "id": "W4VFnKn59gTG"
   },
   "source": [
    "**Boosting**\n",
    "\n",
    "There are different methods of boosting, but we'll focus in this problem on Adaptive Boosting (AdaBoost).\n",
    "The logic of AdaBoost is to \"push\" the new learner to give more importance to previously misclassified data. We present\n",
    "below the multiclass variant of AdaBoost [SAMME](https://web.stanford.edu/~hastie/Papers/samme.pdf). We denote $K$ the number of classes.\n",
    "\n",
    "AdaBosst is performed by increasing the weights of misclassified simple after each iteration:\n",
    "- Start with equal weights $W_1 = (w_i), $ where   $w_i = \\frac{1}{\\texttt{n_samples}}$\n",
    "- at step j:\n",
    "    - Train estimator $h_j$ using weights $W_j$\n",
    "    - Find the weighted error rate $\\epsilon_j$ using $W_j$: $\\epsilon_j=\\frac{\\sum_i w_i \\delta(\\hat{y}_i, y_i)}{\\sum_i w_i}$\n",
    "    - Choose $\\alpha_j = \\log \\frac{1-\\epsilon_j}{\\epsilon_j} + \\log(K-1)$\n",
    "    - Update $W_j$ using: $w_i \\leftarrow w_i \\exp(\\alpha_j \\delta(\\hat{y_i}, y_i)) $\n",
    "    - Normalize $W_j$ to have sum 1\n",
    "- Global estimator is $H = \\sum_j \\alpha_j h_j$\n",
    "\n",
    "$\\hat{y}$ are the predicted labels, and $\\delta$ the Kronecker function, equal to 1 when the two argument are equal, 0 otherwise.\n",
    "\n",
    "\n",
    "3.11 Complete `fit` by building `n_estimators` of DecisionTreeClassifier, each trained on the same data but with different\n",
    "samples weights as detailed in the algorithm. Keep track of $(\\alpha_i)$ (*7 points*)\n",
    "\n",
    "3.12 Complete `predict` method to return the predicted label using the global estimator $H$ (*5 points*). Hint:\n",
    "use one hot encoding of the predicted labels from the weak learners and cumulate the prediction with weights $\\alpha_j$ \n",
    "\n",
    "Notice that if the weak learner is consistent (0 error rate on the training set), AdaBoost $\\alpha_j$ are no longer defined."
   ]
  },
  {
   "cell_type": "code",
   "execution_count": 22,
   "metadata": {
    "id": "kXI03VGY9gTG",
    "pycharm": {
     "name": "#%%\n"
    }
   },
   "outputs": [],
   "source": [
    "class AdaBoost(object):\n",
    "\n",
    "    def __init__(self, n_estimators, num_classes=4):\n",
    "        self.n_estimators = n_estimators\n",
    "        self.num_classes = num_classes\n",
    "        self.estimators = []\n",
    "        self.alphas = []\n",
    "        self.weights = None\n",
    "\n",
    "\n",
    "    def fit(self, X_train, y_train):\n",
    "        #BEGIN Workspace 3.11\n",
    "        # Implement Multiclass Adaboost and keep track of the alpha_j\n",
    "\n",
    "        # Get the initial weights\n",
    "        n_samples = len(X_train)\n",
    "        self.weights = np.array([1/n_samples] * n_samples)\n",
    "\n",
    "        for _ in range(self.n_estimators):\n",
    "\n",
    "          # Initialize model and train the data\n",
    "          model = get_weak_learner()\n",
    "          model.fit(X_train, y_train, sample_weight=self.weights)\n",
    "\n",
    "          # Predict the y_hat for the train data\n",
    "          y_hat_train = model.predict(X_train)\n",
    "\n",
    "          # Get Kronecker function for the predicted and actual: Delta(y_hat, y)\n",
    "          kronecker_values = [np.not_equal(actual, predicted).astype(int) for actual, predicted in zip(y_train, y_hat_train)]\n",
    "\n",
    "          # Weighted error calculation\n",
    "          error_j, alpha_j = self.get_weighted_error_and_alpha(kronecker_values)\n",
    "          if error_j == 0:\n",
    "            break\n",
    "\n",
    "          # Store Alpha_j and estimator\n",
    "          self.estimators.append(model)\n",
    "          self.alphas.append(alpha_j)\n",
    "\n",
    "          # Update Weights for next iteration\n",
    "          self.update_weights(alpha_j, kronecker_values)\n",
    "\n",
    "        #END Workspace 3.11\n",
    "\n",
    "    def predict(self, X_test):\n",
    "        answer = 0\n",
    "        #BEGIN Workspace 3.12\n",
    "        # get the labels returned by the global estimator defined as H\n",
    "        # Use one-hot format to get the labels using the global estimator\n",
    "        # We don't need predict_proba for this one\n",
    "        answer = self.get_predicted_labels(X_test)\n",
    "        #END Workspace 3.12\n",
    "        return answer\n",
    "\n",
    "    # Helpers\n",
    "    def update_weights(self, alpha_j, kronecker_values):\n",
    "      \"\"\"\n",
    "      Update weights for the next cycle using the formula provided\n",
    "\n",
    "      Params:\n",
    "        alpha_j: Current Alpha value\n",
    "        kronecker_values: Delta(y_hat, y)\n",
    "      \"\"\"\n",
    "      # Get the exponential values\n",
    "      alpha_exp = [alpha_j if kvalue else 0 for kvalue in kronecker_values] \n",
    "      exp_values = np.exp(alpha_exp)\n",
    "\n",
    "      # Update the weights\n",
    "      weights = [weight*expo for weight, expo in zip(self.weights, exp_values)]\n",
    "\n",
    "      # Normalize the weights\n",
    "      weight_sum = sum(weights)\n",
    "      self.weights = np.array([weight/weight_sum for weight in weights])\n",
    "\n",
    "      return\n",
    "\n",
    "    def get_weighted_error_and_alpha(self, kronecker_values):\n",
    "      \"\"\"\n",
    "      Calculate the weighted error and Alpha based on the formula given\n",
    "\n",
    "      Params:\n",
    "        kronecker_values: Delta(y_hat, y)\n",
    "      \"\"\"\n",
    "      # Get weighted error\n",
    "      numerator = sum([weight for weight, kvalue in zip(self.weights, kronecker_values) if kvalue])\n",
    "      denominator = sum(self.weights)\n",
    "      error = numerator/denominator\n",
    "\n",
    "      # Calculate Alpha\n",
    "      # Alpha is defined only when Error not equal zero\n",
    "      if error==0:\n",
    "        alpha = None \n",
    "      else:\n",
    "        first_entry = (1-error)/error\n",
    "        alpha = sum(np.log([first_entry, self.num_classes-1]))\n",
    "\n",
    "      return error, alpha\n",
    "\n",
    "    def get_predicted_labels(self, X_test):\n",
    "      \"\"\"\n",
    "      Get the predicted labels using the methodology given\n",
    "\n",
    "      Params:\n",
    "        X_test: Test data set\n",
    "      \"\"\"\n",
    "      # Estimators results\n",
    "      estimators_results = []\n",
    "      \n",
    "      # Iterate over the estimators and get one hot encoded values\n",
    "      for estimator, alpha in zip(self.estimators, self.alphas):\n",
    "\n",
    "        # If Alpha is None then we don't calculate\n",
    "        if alpha is None: \n",
    "          break\n",
    "\n",
    "        # Predict the test data\n",
    "        y_hat = estimator.predict(X_test)\n",
    "\n",
    "        # Get one hot encoding\n",
    "        encoded_y_hat = self.get_encoded_y_hat(y_hat)\n",
    "\n",
    "        # Multiply with Alpha\n",
    "        cur_result = encoded_y_hat * alpha\n",
    "\n",
    "        # Add to estimator results\n",
    "        estimators_results.append(cur_result)\n",
    "\n",
    "      # Take the sum\n",
    "      cumulative_sums = sum(estimators_results)\n",
    "      \n",
    "      # Get the max value (Since every value is negative we take argmin)\n",
    "      y_hat = np.argmax(cumulative_sums, axis=1) \n",
    "  \n",
    "      return y_hat\n",
    "\n",
    "\n",
    "    def get_encoded_y_hat(self, y_hat):\n",
    "      \"\"\"\n",
    "      Get encoded y_hat values\n",
    "      \"\"\"\n",
    "      # Initialize empty array\n",
    "      one_hot_encoded = np.zeros((len(y_hat), 4))\n",
    "\n",
    "      # Encode the y_hat values\n",
    "      for idx, predicted in enumerate(y_hat):\n",
    "        one_hot_encoded[idx][predicted] = 1\n",
    "\n",
    "      return one_hot_encoded\n"
   ]
  },
  {
   "cell_type": "code",
   "execution_count": 23,
   "metadata": {
    "colab": {
     "base_uri": "https://localhost:8080/"
    },
    "id": "ADuH4COK9gTG",
    "outputId": "162970e8-fe83-4d15-885f-4b9350074096",
    "pycharm": {
     "name": "#%%\n"
    }
   },
   "outputs": [
    {
     "name": "stdout",
     "output_type": "stream",
     "text": [
      "          Model  Precision(micro)  Mean Accuracy  Execution time\n",
      "4  RandomForest          0.780822       0.780822        0.197983\n",
      "5      AdaBoost          0.732877       0.732877        0.164353\n",
      "3       Bagging          0.729452       0.729452        0.116617\n",
      "2        Model3          0.691781       0.691781        0.012646\n",
      "0        Model1          0.671233       0.671233        0.014414\n",
      "1        Model2          0.657534       0.657534        0.012804\n"
     ]
    }
   ],
   "source": [
    "# This cell should run without errors\n",
    "ensemble_handler.fit_model(AdaBoost(10), 'AdaBoost')\n",
    "ensemble_handler.print_result()"
   ]
  },
  {
   "cell_type": "markdown",
   "metadata": {
    "id": "Yloh0n999gTG"
   },
   "source": [
    "**Comparison**\n",
    "\n",
    "3.13 Add different ensemble methods to the handler (try different parameters), plot, show, and compare them (*5 points*)."
   ]
  },
  {
   "cell_type": "code",
   "execution_count": 24,
   "metadata": {
    "colab": {
     "base_uri": "https://localhost:8080/",
     "height": 1000
    },
    "id": "zX3s_JvL9gTG",
    "outputId": "fa3c083c-7957-4773-ec1a-9817e623f386",
    "pycharm": {
     "name": "#%%\n"
    }
   },
   "outputs": [
    {
     "name": "stdout",
     "output_type": "stream",
     "text": [
      "   Model  Precision(micro)  Mean Accuracy  Execution time\n",
      "8  RF_15          0.777397       0.777397        0.148569\n",
      "2   RF_5          0.763699       0.763699        0.049938\n",
      "5  RF_10          0.750000       0.750000        0.097426\n",
      "9  AB_15          0.743151       0.743151        0.243797\n",
      "6  AB_10          0.739726       0.739726        0.162039\n",
      "4   B_10          0.736301       0.736301        0.112622\n",
      "7   B_15          0.736301       0.736301        0.171084\n",
      "1    B_5          0.719178       0.719178        0.057027\n",
      "3   AB_5          0.715753       0.715753        0.082001\n",
      "0     DT          0.671233       0.671233        0.012617\n"
     ]
    },
    {
     "data": {
      "image/png": "[encoded data removed]",
      "text/plain": [
       "<Figure size 432x288 with 1 Axes>"
      ]
     },
     "metadata": {
      "needs_background": "light"
     },
     "output_type": "display_data"
    },
    {
     "data": {
      "text/plain": [
       "<Figure size 640x480 with 0 Axes>"
      ]
     },
     "metadata": {},
     "output_type": "display_data"
    },
    {
     "data": {
      "image/png": "[encoded data removed]",
      "text/plain": [
       "<Figure size 432x288 with 1 Axes>"
      ]
     },
     "metadata": {
      "needs_background": "light"
     },
     "output_type": "display_data"
    },
    {
     "data": {
      "text/plain": [
       "<Figure size 640x480 with 0 Axes>"
      ]
     },
     "metadata": {},
     "output_type": "display_data"
    },
    {
     "data": {
      "image/png": "[encoded data removed]",
      "text/plain": [
       "<Figure size 432x288 with 1 Axes>"
      ]
     },
     "metadata": {
      "needs_background": "light"
     },
     "output_type": "display_data"
    },
    {
     "data": {
      "text/plain": [
       "<Figure size 640x480 with 0 Axes>"
      ]
     },
     "metadata": {},
     "output_type": "display_data"
    },
    {
     "name": "stdout",
     "output_type": "stream",
     "text": [
      "   Model  Precision(micro)  Mean Accuracy  Execution time\n",
      "1   B_70          0.770548       0.770548        0.088626\n",
      "2  RF_70          0.767123       0.767123        0.074200\n",
      "6  RF_90          0.753425       0.753425        0.100221\n",
      "3   B_80          0.743151       0.743151        0.099220\n",
      "4  RF_80          0.743151       0.743151        0.086674\n",
      "5   B_90          0.736301       0.736301        0.113069\n",
      "0     DT          0.660959       0.660959        0.013446\n"
     ]
    },
    {
     "data": {
      "image/png": "[encoded data removed]",
      "text/plain": [
       "<Figure size 432x288 with 1 Axes>"
      ]
     },
     "metadata": {
      "needs_background": "light"
     },
     "output_type": "display_data"
    },
    {
     "data": {
      "text/plain": [
       "<Figure size 640x480 with 0 Axes>"
      ]
     },
     "metadata": {},
     "output_type": "display_data"
    },
    {
     "data": {
      "image/png": "[encoded data removed]",
      "text/plain": [
       "<Figure size 432x288 with 1 Axes>"
      ]
     },
     "metadata": {
      "needs_background": "light"
     },
     "output_type": "display_data"
    },
    {
     "data": {
      "text/plain": [
       "<Figure size 640x480 with 0 Axes>"
      ]
     },
     "metadata": {},
     "output_type": "display_data"
    },
    {
     "data": {
      "image/png": "[encoded data removed]",
      "text/plain": [
       "<Figure size 432x288 with 1 Axes>"
      ]
     },
     "metadata": {
      "needs_background": "light"
     },
     "output_type": "display_data"
    },
    {
     "data": {
      "text/plain": [
       "<Figure size 640x480 with 0 Axes>"
      ]
     },
     "metadata": {},
     "output_type": "display_data"
    },
    {
     "name": "stdout",
     "output_type": "stream",
     "text": [
      "   Model  Precision(micro)  Mean Accuracy  Execution time\n",
      "1  RF_70          0.763699       0.763699        0.089079\n",
      "2  RF_80          0.756849       0.756849        0.098319\n",
      "3  RF_90          0.726027       0.726027        0.105685\n",
      "0     DT          0.688356       0.688356        0.013181\n"
     ]
    },
    {
     "data": {
      "image/png": "[encoded data removed]",
      "text/plain": [
       "<Figure size 432x288 with 1 Axes>"
      ]
     },
     "metadata": {
      "needs_background": "light"
     },
     "output_type": "display_data"
    },
    {
     "data": {
      "text/plain": [
       "<Figure size 640x480 with 0 Axes>"
      ]
     },
     "metadata": {},
     "output_type": "display_data"
    },
    {
     "data": {
      "image/png": "[encoded data removed]",
      "text/plain": [
       "<Figure size 432x288 with 1 Axes>"
      ]
     },
     "metadata": {
      "needs_background": "light"
     },
     "output_type": "display_data"
    },
    {
     "data": {
      "text/plain": [
       "<Figure size 640x480 with 0 Axes>"
      ]
     },
     "metadata": {},
     "output_type": "display_data"
    },
    {
     "data": {
      "image/png": "[encoded data removed]",
      "text/plain": [
       "<Figure size 432x288 with 1 Axes>"
      ]
     },
     "metadata": {
      "needs_background": "light"
     },
     "output_type": "display_data"
    },
    {
     "data": {
      "text/plain": [
       "<Figure size 640x480 with 0 Axes>"
      ]
     },
     "metadata": {},
     "output_type": "display_data"
    }
   ],
   "source": [
    "# create a handler for ensemble_test, use the created handler for fitting different models.\n",
    "ensemble_handler = EnsembleTest(X_train, y_train, X_test, y_test)\n",
    "decision = get_weak_learner()\n",
    "ensemble_handler.fit_model(decision,'decision_tree')\n",
    "\n",
    "#BEGIN Workspace 3.13.a\n",
    "# Add multiple instances of the ensemble methods. Plot and compare their performance\n",
    "\n",
    "# Get an instance of Ensemble handler\n",
    "def get_ensemble_handler():\n",
    "  \"\"\"\n",
    "  Returns an ensemble handler with Single decision tree\n",
    "  \"\"\"\n",
    "  ensemble_handler = EnsembleTest(X_train, y_train, X_test, y_test)\n",
    "  decision = get_weak_learner()\n",
    "  ensemble_handler.fit_model(decision,'DT')\n",
    "  return ensemble_handler\n",
    "\n",
    "# Plot metrics for different Estimator size\n",
    "def compare_estimator_size(estimator_sizes, row_ratio=0.9, feature_ratio=0.8):\n",
    "  \"\"\"\n",
    "  Compare models across different estimator sizes\n",
    "  \"\"\"\n",
    "  # Get a new instance of ensemble handler\n",
    "  ensemble_handler = get_ensemble_handler()\n",
    "\n",
    "  # Fit different models\n",
    "  for size in estimator_sizes:\n",
    "    ensemble_handler.fit_model(BaggingEnsemble(size, row_ratio), f\"B_{size}\")\n",
    "    ensemble_handler.fit_model(RandomForest(size, row_ratio, feature_ratio), f\"RF_{size}\")\n",
    "    ensemble_handler.fit_model(AdaBoost(size), f\"AB_{size}\")\n",
    "  \n",
    "  # Print the result\n",
    "  ensemble_handler.print_result()\n",
    "\n",
    "  # Plot the metrics\n",
    "  ensemble_handler.plot_metric()\n",
    "  return \n",
    "\n",
    "# Plot metrics for Row Ratio variations\n",
    "def compare_sample_ratios(row_ratios, feature_ratio=0.8, size=10):\n",
    "  \"\"\"\n",
    "  Compare models across different sample ratios\n",
    "  \"\"\"\n",
    "  # Get a new instance of ensemble handler\n",
    "  ensemble_handler = get_ensemble_handler()\n",
    "\n",
    "  # Fit different models\n",
    "  # Plot only for Bagging and Random forests. Ada boost no changes\n",
    "  for row_ratio in row_ratios:\n",
    "    printValue = int(row_ratio*100)\n",
    "    ensemble_handler.fit_model(BaggingEnsemble(size, row_ratio), f\"B_{printValue}\")\n",
    "    ensemble_handler.fit_model(RandomForest(size, row_ratio, feature_ratio), f\"RF_{printValue}\")\n",
    "  \n",
    "  # Print the result\n",
    "  ensemble_handler.print_result()\n",
    "\n",
    "  # Plot the metrics\n",
    "  ensemble_handler.plot_metric()\n",
    "  return \n",
    "\n",
    "# Plot metrics for Feature ratio variations\n",
    "def compare_feature_ratios(feature_ratios, row_ratio=0.9, size=10):\n",
    "  \"\"\"\n",
    "  Compare models across different sample ratios\n",
    "  \"\"\"\n",
    "  # Get a new instance of ensemble handler\n",
    "  ensemble_handler = get_ensemble_handler()\n",
    "\n",
    "  # Fit different models\n",
    "  # Plot only for Random forests.\n",
    "  for feature_ratio in feature_ratios:\n",
    "    printValue = int(feature_ratio*100)\n",
    "    ensemble_handler.fit_model(RandomForest(size, row_ratio, feature_ratio), f\"RF_{printValue}\")\n",
    "  \n",
    "  # Print the result\n",
    "  ensemble_handler.print_result()\n",
    "\n",
    "  # Plot the metrics\n",
    "  ensemble_handler.plot_metric()\n",
    "  return\n",
    "\n",
    "# Put the funtion calls here\n",
    "n_estimators = [5, 10, 15]\n",
    "row_sampling_ratios = [0.7, 0.8, 0.9]\n",
    "feature_sampling_ratios = [0.7, 0.8, 0.9]\n",
    "\n",
    "# Comparison size variations\n",
    "compare_estimator_size(n_estimators)\n",
    "# Comparison Sampling ratio variations\n",
    "compare_sample_ratios(row_sampling_ratios)\n",
    "# Comparison Feature ratio variations\n",
    "compare_feature_ratios(feature_sampling_ratios)\n",
    "\n",
    "#END Workspace 3.13.a"
   ]
  },
  {
   "cell_type": "markdown",
   "metadata": {
    "id": "P6N8HQo69gTH",
    "pycharm": {
     "name": "#%% md\n"
    }
   },
   "source": [
    "# BEGIN Workspace 3.13.b\n",
    "# Comparison write-up\n",
    "\n",
    "#### Note:\n",
    "Since the DecisionTreeClassifier in itself has some randomness, the results obtained across comparisons are not consistent. So I am giving my conclusions based on 10 different runs and taking a majority vote of which model performs the best most of the times.\n",
    "\n",
    "I have split my comparisons into three different categories based on:\n",
    "\n",
    "1. Estimator sizes \n",
    "2. Row Sampling ratio \n",
    "3. Feature Sampling ratio \n",
    "\n",
    "### Estimator Sizes (for Bagging, Random Forest, AdaBoost)\n",
    "\n",
    "1. The estimator sizes chosen are 5, 10 and 15\n",
    "2. On ten different observations, **RandomForests** with ***15*** estimators gives the best acccuracy most of the times followed by **AdaBoost** with **15** estimators.\n",
    "\n",
    "### Row Sampling Ratio (for Bagging and Random Forests)\n",
    "\n",
    "1. Used sampling ratios are 0.7, 0.8 and 0.9\n",
    "2. On ten different observations, **RandomForest** with Sampling ratio as **0.8** gives the best accuracy most of the times and the second best is **Bagging** with ratio **0.7**\n",
    "\n",
    "### Feature sampling (for Random Forests)\n",
    "\n",
    "1. Used Feature sampling ratios are 0.7, 0.8 and 0.9\n",
    "2. On ten different observations, **RandomForest** with Sampling ratio as **0.7** gives the best accuracy most of the times and the second best is **RandomForest** with ratio **0.8**\n",
    "3. This shows that the model performs better if the randomness **increases**.\n",
    "\n",
    "\n",
    "##### Note: \n",
    "While comparing a metric the other two metrics were kept constant and the results were observed.\n",
    "\n",
    "# END Workspace 3.13.b"
   ]
  },
  {
   "cell_type": "markdown",
   "metadata": {},
   "source": [
    "Note: \n",
    "\n",
    "In my last submission, there was a comment for using zip(), that the data becomes convoluted. I referred many sources to get clarity on this and found that in Python 3.x zip() returns only iterator. Only in Python 2.x zip() used to create copies of the entire data.\n",
    "\n",
    "Stack Overflow reference: https://stackoverflow.com/questions/1663807/how-to-iterate-through-two-lists-in-parallel"
   ]
  }
 ],
 "metadata": {
  "colab": {
   "collapsed_sections": [],
   "name": "PS2_<AravindakumarVijayasriMohankumar>.ipynb",
   "provenance": []
  },
  "kernelspec": {
   "display_name": "Python 3",
   "language": "python",
   "name": "python3"
  },
  "language_info": {
   "codemirror_mode": {
    "name": "ipython",
    "version": 3
   },
   "file_extension": ".py",
   "mimetype": "text/x-python",
   "name": "python",
   "nbconvert_exporter": "python",
   "pygments_lexer": "ipython3",
   "version": "3.8.8"
  }
 },
 "nbformat": 4,
 "nbformat_minor": 1
}
